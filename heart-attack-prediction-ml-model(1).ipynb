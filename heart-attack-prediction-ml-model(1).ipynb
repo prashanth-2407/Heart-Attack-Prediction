{
 "cells": [
  {
   "cell_type": "code",
   "execution_count": 1,
   "id": "ae7721b6",
   "metadata": {
    "_cell_guid": "b1076dfc-b9ad-4769-8c92-a6c4dae69d19",
    "_uuid": "8f2839f25d086af736a60e9eeb907d3b93b6e0e5",
    "execution": {
     "iopub.execute_input": "2022-11-15T16:40:22.672163Z",
     "iopub.status.busy": "2022-11-15T16:40:22.671608Z",
     "iopub.status.idle": "2022-11-15T16:40:22.691921Z",
     "shell.execute_reply": "2022-11-15T16:40:22.690922Z"
    },
    "papermill": {
     "duration": 0.034802,
     "end_time": "2022-11-15T16:40:22.694156",
     "exception": false,
     "start_time": "2022-11-15T16:40:22.659354",
     "status": "completed"
    },
    "tags": []
   },
   "outputs": [
    {
     "name": "stdout",
     "output_type": "stream",
     "text": [
      "/kaggle/input/heart-attack-analysis-prediction-dataset/o2Saturation.csv\n",
      "/kaggle/input/heart-attack-analysis-prediction-dataset/heart.csv\n"
     ]
    }
   ],
   "source": [
    "# This Python 3 environment comes with many helpful analytics libraries installed\n",
    "# It is defined by the kaggle/python Docker image: https://github.com/kaggle/docker-python\n",
    "# For example, here's several helpful packages to load\n",
    "\n",
    "import numpy as np # linear algebra\n",
    "import pandas as pd # data processing, CSV file I/O (e.g. pd.read_csv)\n",
    "\n",
    "# Input data files are available in the read-only \"../input/\" directory\n",
    "# For example, running this (by clicking run or pressing Shift+Enter) will list all files under the input directory\n",
    "\n",
    "import os\n",
    "for dirname, _, filenames in os.walk('/kaggle/input'):\n",
    "    for filename in filenames:\n",
    "        print(os.path.join(dirname, filename))\n",
    "\n",
    "# You can write up to 20GB to the current directory (/kaggle/working/) that gets preserved as output when you create a version using \"Save & Run All\" \n",
    "# You can also write temporary files to /kaggle/temp/, but they won't be saved outside of the current session"
   ]
  },
  {
   "cell_type": "markdown",
   "id": "8db5edd8",
   "metadata": {
    "papermill": {
     "duration": 0.010459,
     "end_time": "2022-11-15T16:40:22.714022",
     "exception": false,
     "start_time": "2022-11-15T16:40:22.703563",
     "status": "completed"
    },
    "tags": []
   },
   "source": [
    "   Tabel of Contents\n",
    "1. [Data loading & visualization.](#section1)\n",
    "2. [Logistic Regression.](#section2)\n",
    "3. [Decision Tree.](#section3)\n",
    "4. [Random Forest.](#section4)\n",
    "5. [XGBoost.](#section5)\n",
    "6. [Final Results.](#section6)\n"
   ]
  },
  {
   "cell_type": "markdown",
   "id": "241aad89",
   "metadata": {
    "papermill": {
     "duration": 0.009098,
     "end_time": "2022-11-15T16:40:22.732337",
     "exception": false,
     "start_time": "2022-11-15T16:40:22.723239",
     "status": "completed"
    },
    "tags": []
   },
   "source": [
    "# 1. Importing required libraries\n",
    "<a class=\"anchor\"  id=\"section1\"></a>"
   ]
  },
  {
   "cell_type": "code",
   "execution_count": 2,
   "id": "969efec2",
   "metadata": {
    "execution": {
     "iopub.execute_input": "2022-11-15T16:40:22.751749Z",
     "iopub.status.busy": "2022-11-15T16:40:22.751487Z",
     "iopub.status.idle": "2022-11-15T16:40:25.705611Z",
     "shell.execute_reply": "2022-11-15T16:40:25.704618Z"
    },
    "papermill": {
     "duration": 2.966686,
     "end_time": "2022-11-15T16:40:25.707997",
     "exception": false,
     "start_time": "2022-11-15T16:40:22.741311",
     "status": "completed"
    },
    "tags": []
   },
   "outputs": [],
   "source": [
    "import matplotlib.pyplot as plt\n",
    "import seaborn as sns\n",
    "import plotly.express as px\n",
    "import plotly.graph_objs as go\n",
    "from plotly.subplots import make_subplots\n",
    "from sklearn import tree\n",
    "from sklearn.metrics import accuracy_score, confusion_matrix, r2_score\n",
    "import itertools\n",
    "import warnings\n",
    "warnings.filterwarnings('ignore')"
   ]
  },
  {
   "cell_type": "markdown",
   "id": "f9a3b9c3",
   "metadata": {
    "papermill": {
     "duration": 0.009137,
     "end_time": "2022-11-15T16:40:25.726651",
     "exception": false,
     "start_time": "2022-11-15T16:40:25.717514",
     "status": "completed"
    },
    "tags": []
   },
   "source": [
    "## Loading the dataset"
   ]
  },
  {
   "cell_type": "code",
   "execution_count": 3,
   "id": "debffed6",
   "metadata": {
    "execution": {
     "iopub.execute_input": "2022-11-15T16:40:25.747979Z",
     "iopub.status.busy": "2022-11-15T16:40:25.746315Z",
     "iopub.status.idle": "2022-11-15T16:40:25.778896Z",
     "shell.execute_reply": "2022-11-15T16:40:25.777943Z"
    },
    "papermill": {
     "duration": 0.045449,
     "end_time": "2022-11-15T16:40:25.781274",
     "exception": false,
     "start_time": "2022-11-15T16:40:25.735825",
     "status": "completed"
    },
    "tags": []
   },
   "outputs": [
    {
     "data": {
      "text/html": [
       "<div>\n",
       "<style scoped>\n",
       "    .dataframe tbody tr th:only-of-type {\n",
       "        vertical-align: middle;\n",
       "    }\n",
       "\n",
       "    .dataframe tbody tr th {\n",
       "        vertical-align: top;\n",
       "    }\n",
       "\n",
       "    .dataframe thead th {\n",
       "        text-align: right;\n",
       "    }\n",
       "</style>\n",
       "<table border=\"1\" class=\"dataframe\">\n",
       "  <thead>\n",
       "    <tr style=\"text-align: right;\">\n",
       "      <th></th>\n",
       "      <th>age</th>\n",
       "      <th>sex</th>\n",
       "      <th>cp</th>\n",
       "      <th>trtbps</th>\n",
       "      <th>chol</th>\n",
       "      <th>fbs</th>\n",
       "      <th>restecg</th>\n",
       "      <th>thalachh</th>\n",
       "      <th>exng</th>\n",
       "      <th>oldpeak</th>\n",
       "      <th>slp</th>\n",
       "      <th>caa</th>\n",
       "      <th>thall</th>\n",
       "      <th>output</th>\n",
       "    </tr>\n",
       "  </thead>\n",
       "  <tbody>\n",
       "    <tr>\n",
       "      <th>0</th>\n",
       "      <td>63</td>\n",
       "      <td>1</td>\n",
       "      <td>3</td>\n",
       "      <td>145</td>\n",
       "      <td>233</td>\n",
       "      <td>1</td>\n",
       "      <td>0</td>\n",
       "      <td>150</td>\n",
       "      <td>0</td>\n",
       "      <td>2.3</td>\n",
       "      <td>0</td>\n",
       "      <td>0</td>\n",
       "      <td>1</td>\n",
       "      <td>1</td>\n",
       "    </tr>\n",
       "    <tr>\n",
       "      <th>1</th>\n",
       "      <td>37</td>\n",
       "      <td>1</td>\n",
       "      <td>2</td>\n",
       "      <td>130</td>\n",
       "      <td>250</td>\n",
       "      <td>0</td>\n",
       "      <td>1</td>\n",
       "      <td>187</td>\n",
       "      <td>0</td>\n",
       "      <td>3.5</td>\n",
       "      <td>0</td>\n",
       "      <td>0</td>\n",
       "      <td>2</td>\n",
       "      <td>1</td>\n",
       "    </tr>\n",
       "    <tr>\n",
       "      <th>2</th>\n",
       "      <td>41</td>\n",
       "      <td>0</td>\n",
       "      <td>1</td>\n",
       "      <td>130</td>\n",
       "      <td>204</td>\n",
       "      <td>0</td>\n",
       "      <td>0</td>\n",
       "      <td>172</td>\n",
       "      <td>0</td>\n",
       "      <td>1.4</td>\n",
       "      <td>2</td>\n",
       "      <td>0</td>\n",
       "      <td>2</td>\n",
       "      <td>1</td>\n",
       "    </tr>\n",
       "    <tr>\n",
       "      <th>3</th>\n",
       "      <td>56</td>\n",
       "      <td>1</td>\n",
       "      <td>1</td>\n",
       "      <td>120</td>\n",
       "      <td>236</td>\n",
       "      <td>0</td>\n",
       "      <td>1</td>\n",
       "      <td>178</td>\n",
       "      <td>0</td>\n",
       "      <td>0.8</td>\n",
       "      <td>2</td>\n",
       "      <td>0</td>\n",
       "      <td>2</td>\n",
       "      <td>1</td>\n",
       "    </tr>\n",
       "    <tr>\n",
       "      <th>4</th>\n",
       "      <td>57</td>\n",
       "      <td>0</td>\n",
       "      <td>0</td>\n",
       "      <td>120</td>\n",
       "      <td>354</td>\n",
       "      <td>0</td>\n",
       "      <td>1</td>\n",
       "      <td>163</td>\n",
       "      <td>1</td>\n",
       "      <td>0.6</td>\n",
       "      <td>2</td>\n",
       "      <td>0</td>\n",
       "      <td>2</td>\n",
       "      <td>1</td>\n",
       "    </tr>\n",
       "  </tbody>\n",
       "</table>\n",
       "</div>"
      ],
      "text/plain": [
       "   age  sex  cp  trtbps  chol  fbs  restecg  thalachh  exng  oldpeak  slp  \\\n",
       "0   63    1   3     145   233    1        0       150     0      2.3    0   \n",
       "1   37    1   2     130   250    0        1       187     0      3.5    0   \n",
       "2   41    0   1     130   204    0        0       172     0      1.4    2   \n",
       "3   56    1   1     120   236    0        1       178     0      0.8    2   \n",
       "4   57    0   0     120   354    0        1       163     1      0.6    2   \n",
       "\n",
       "   caa  thall  output  \n",
       "0    0      1       1  \n",
       "1    0      2       1  \n",
       "2    0      2       1  \n",
       "3    0      2       1  \n",
       "4    0      2       1  "
      ]
     },
     "execution_count": 3,
     "metadata": {},
     "output_type": "execute_result"
    }
   ],
   "source": [
    "data=pd.read_csv('/kaggle/input/heart-attack-analysis-prediction-dataset/heart.csv')\n",
    "data.head()"
   ]
  },
  {
   "cell_type": "markdown",
   "id": "b337a0b2",
   "metadata": {
    "papermill": {
     "duration": 0.009226,
     "end_time": "2022-11-15T16:40:25.800211",
     "exception": false,
     "start_time": "2022-11-15T16:40:25.790985",
     "status": "completed"
    },
    "tags": []
   },
   "source": [
    "## Information about the dataset 💻📚"
   ]
  },
  {
   "cell_type": "markdown",
   "id": "c7ee2c3e",
   "metadata": {
    "papermill": {
     "duration": 0.009228,
     "end_time": "2022-11-15T16:40:25.818791",
     "exception": false,
     "start_time": "2022-11-15T16:40:25.809563",
     "status": "completed"
    },
    "tags": []
   },
   "source": [
    "1. Age - Age in years 🔢\n",
    "    \n",
    "2. sex - sex (1 = male; 0 = female) 🚻\n",
    "    \n",
    "3. cp - Chest pain type (1 = typical angina; 2 = atypical angina; 3 = non-anginal pain; 0 = asymptomatic) \n",
    "\n",
    "4. trestbps - Resting blood pressure (in mm Hg on admission to the hospital)\n",
    "\n",
    "5. chol - Serum cholestoral in mg/dl\n",
    "\n",
    "6. fbs - Fasting blood sugar > 120 mg/dl (1 = true; 0 = false)\n",
    "\n",
    "7. restecg - Maximum heart rate (1 = normal; 2 = having ST-T wave abnormality; 0 = hypertrophy)\n",
    "\n",
    "8. thalach - Maximum heart rate achieved\n",
    "\n",
    "9. exang - Exercise induced angina (1 = yes; 0 = no)\n",
    "\n",
    "10. oldpeak - ST depression induced by exercise relative to rest\n",
    "\n",
    "11. slope - The slope of the peak exercise ST segment (2 = upsloping; 1 = flat; 0 = downsloping)\n",
    "\n",
    "12. caa - Number of major vessels (0-3) colored by flourosopy\n",
    "\n",
    "13. thall - 2 = normal; 1 = fixed defect; 3 = reversable defect\n",
    "\n",
    "14. num - The predicted attribute - diagnosis of heart disease (angiographic disease status) (Value 0 = < diameter narrowing; Value 1 = > 50% diameter narrowing)"
   ]
  },
  {
   "cell_type": "code",
   "execution_count": 4,
   "id": "c25de8fa",
   "metadata": {
    "execution": {
     "iopub.execute_input": "2022-11-15T16:40:25.839293Z",
     "iopub.status.busy": "2022-11-15T16:40:25.838535Z",
     "iopub.status.idle": "2022-11-15T16:40:25.860395Z",
     "shell.execute_reply": "2022-11-15T16:40:25.859374Z"
    },
    "papermill": {
     "duration": 0.035303,
     "end_time": "2022-11-15T16:40:25.863492",
     "exception": false,
     "start_time": "2022-11-15T16:40:25.828189",
     "status": "completed"
    },
    "tags": []
   },
   "outputs": [
    {
     "name": "stdout",
     "output_type": "stream",
     "text": [
      "<class 'pandas.core.frame.DataFrame'>\n",
      "RangeIndex: 303 entries, 0 to 302\n",
      "Data columns (total 14 columns):\n",
      " #   Column    Non-Null Count  Dtype  \n",
      "---  ------    --------------  -----  \n",
      " 0   age       303 non-null    int64  \n",
      " 1   sex       303 non-null    int64  \n",
      " 2   cp        303 non-null    int64  \n",
      " 3   trtbps    303 non-null    int64  \n",
      " 4   chol      303 non-null    int64  \n",
      " 5   fbs       303 non-null    int64  \n",
      " 6   restecg   303 non-null    int64  \n",
      " 7   thalachh  303 non-null    int64  \n",
      " 8   exng      303 non-null    int64  \n",
      " 9   oldpeak   303 non-null    float64\n",
      " 10  slp       303 non-null    int64  \n",
      " 11  caa       303 non-null    int64  \n",
      " 12  thall     303 non-null    int64  \n",
      " 13  output    303 non-null    int64  \n",
      "dtypes: float64(1), int64(13)\n",
      "memory usage: 33.3 KB\n"
     ]
    }
   ],
   "source": [
    "data.info()\n",
    "df=data"
   ]
  },
  {
   "cell_type": "markdown",
   "id": "b9808fcb",
   "metadata": {
    "papermill": {
     "duration": 0.009264,
     "end_time": "2022-11-15T16:40:25.882125",
     "exception": false,
     "start_time": "2022-11-15T16:40:25.872861",
     "status": "completed"
    },
    "tags": []
   },
   "source": [
    "Data doesn't contain null values"
   ]
  },
  {
   "cell_type": "markdown",
   "id": "06d1a12f",
   "metadata": {
    "papermill": {
     "duration": 0.009177,
     "end_time": "2022-11-15T16:40:25.900716",
     "exception": false,
     "start_time": "2022-11-15T16:40:25.891539",
     "status": "completed"
    },
    "tags": []
   },
   "source": [
    "## Renaming column names"
   ]
  },
  {
   "cell_type": "code",
   "execution_count": 5,
   "id": "2dcc63e0",
   "metadata": {
    "execution": {
     "iopub.execute_input": "2022-11-15T16:40:25.921173Z",
     "iopub.status.busy": "2022-11-15T16:40:25.920296Z",
     "iopub.status.idle": "2022-11-15T16:40:25.926515Z",
     "shell.execute_reply": "2022-11-15T16:40:25.925497Z"
    },
    "papermill": {
     "duration": 0.018387,
     "end_time": "2022-11-15T16:40:25.928450",
     "exception": false,
     "start_time": "2022-11-15T16:40:25.910063",
     "status": "completed"
    },
    "tags": []
   },
   "outputs": [],
   "source": [
    "df.rename(columns = {'age':'Age', 'sex':'Sex',\n",
    "                              'cp':'Chest pain type','trtbps':'Resting blood pressure',\n",
    "                        'chol':'Serum cholestoral','fbs':'Fasting blood sugar',\n",
    "                       'restecg':'Resting electrocardiographic results','thalachh':'Maximum heart rate','exng':'Exercise induced angina',\n",
    "                        'oldpeak':'ST depression','slp':'slope of the peak exercise ST segment',\n",
    "                       'caa':'No.of major vessels colored by flourosopy'}, inplace = True)"
   ]
  },
  {
   "cell_type": "markdown",
   "id": "559d1ba3",
   "metadata": {
    "papermill": {
     "duration": 0.009275,
     "end_time": "2022-11-15T16:40:25.947196",
     "exception": false,
     "start_time": "2022-11-15T16:40:25.937921",
     "status": "completed"
    },
    "tags": []
   },
   "source": [
    "## Correlation Matrix"
   ]
  },
  {
   "cell_type": "code",
   "execution_count": 6,
   "id": "161c13de",
   "metadata": {
    "execution": {
     "iopub.execute_input": "2022-11-15T16:40:25.968111Z",
     "iopub.status.busy": "2022-11-15T16:40:25.966718Z",
     "iopub.status.idle": "2022-11-15T16:40:26.467920Z",
     "shell.execute_reply": "2022-11-15T16:40:26.466890Z"
    },
    "papermill": {
     "duration": 0.513422,
     "end_time": "2022-11-15T16:40:26.469986",
     "exception": false,
     "start_time": "2022-11-15T16:40:25.956564",
     "status": "completed"
    },
    "tags": []
   },
   "outputs": [
    {
     "data": {
      "text/plain": [
       "<AxesSubplot:>"
      ]
     },
     "execution_count": 6,
     "metadata": {},
     "output_type": "execute_result"
    },
    {
     "data": {
      "image/png": "[encoded data removed]",
      "text/plain": [
       "<Figure size 1080x864 with 2 Axes>"
      ]
     },
     "metadata": {
      "needs_background": "light"
     },
     "output_type": "display_data"
    }
   ],
   "source": [
    "corr=df.corr()\n",
    "mask=np.triu(np.ones_like(corr,dtype=bool))\n",
    "f,ax = plt.subplots(figsize=(15,12))\n",
    "cmap = sns.diverging_palette(230,20, as_cmap=True)\n",
    "sns.heatmap(corr,cmap=cmap,mask=mask,linewidth=0.5,square=True,center=0)\n"
   ]
  },
  {
   "cell_type": "markdown",
   "id": "3d0c7694",
   "metadata": {
    "papermill": {
     "duration": 0.010194,
     "end_time": "2022-11-15T16:40:26.491052",
     "exception": false,
     "start_time": "2022-11-15T16:40:26.480858",
     "status": "completed"
    },
    "tags": []
   },
   "source": [
    "## Data Distribution"
   ]
  },
  {
   "cell_type": "code",
   "execution_count": 7,
   "id": "264cffb0",
   "metadata": {
    "execution": {
     "iopub.execute_input": "2022-11-15T16:40:26.513621Z",
     "iopub.status.busy": "2022-11-15T16:40:26.512765Z",
     "iopub.status.idle": "2022-11-15T16:40:27.977791Z",
     "shell.execute_reply": "2022-11-15T16:40:27.976882Z"
    },
    "papermill": {
     "duration": 1.478551,
     "end_time": "2022-11-15T16:40:27.979911",
     "exception": false,
     "start_time": "2022-11-15T16:40:26.501360",
     "status": "completed"
    },
    "tags": []
   },
   "outputs": [
    {
     "data": {
      "image/png": "[encoded data removed]",
      "text/plain": [
       "<Figure size 1800x1080 with 16 Axes>"
      ]
     },
     "metadata": {
      "needs_background": "light"
     },
     "output_type": "display_data"
    }
   ],
   "source": [
    "color = '#a9cce3'\n",
    "df.hist(bins=15,figsize=(25,15),color=color)\n",
    "plt.rcParams['font.size'] = 18\n",
    "plt.show()"
   ]
  },
  {
   "cell_type": "markdown",
   "id": "f4a505a9",
   "metadata": {
    "papermill": {
     "duration": 0.011702,
     "end_time": "2022-11-15T16:40:28.003269",
     "exception": false,
     "start_time": "2022-11-15T16:40:27.991567",
     "status": "completed"
    },
    "tags": []
   },
   "source": [
    "## Dividing data into Train and Test Data using Stratified Shuffle Split"
   ]
  },
  {
   "cell_type": "code",
   "execution_count": 8,
   "id": "c0282be8",
   "metadata": {
    "execution": {
     "iopub.execute_input": "2022-11-15T16:40:28.027232Z",
     "iopub.status.busy": "2022-11-15T16:40:28.026302Z",
     "iopub.status.idle": "2022-11-15T16:40:28.034156Z",
     "shell.execute_reply": "2022-11-15T16:40:28.033316Z"
    },
    "papermill": {
     "duration": 0.021777,
     "end_time": "2022-11-15T16:40:28.036154",
     "exception": false,
     "start_time": "2022-11-15T16:40:28.014377",
     "status": "completed"
    },
    "tags": []
   },
   "outputs": [],
   "source": [
    "from sklearn.model_selection import StratifiedShuffleSplit\n",
    "\n",
    "split=StratifiedShuffleSplit(n_splits=1,test_size=0.33,random_state=42)\n",
    "\n",
    "for train_index, test_index in split.split(df, df['output']):\n",
    "    strat_train_set=df.loc[train_index]\n",
    "    strat_test_set=df.loc[test_index]"
   ]
  },
  {
   "cell_type": "markdown",
   "id": "596358a5",
   "metadata": {
    "papermill": {
     "duration": 0.010675,
     "end_time": "2022-11-15T16:40:28.057798",
     "exception": false,
     "start_time": "2022-11-15T16:40:28.047123",
     "status": "completed"
    },
    "tags": []
   },
   "source": [
    "## Creating function to transform the data"
   ]
  },
  {
   "cell_type": "code",
   "execution_count": 9,
   "id": "0630711e",
   "metadata": {
    "execution": {
     "iopub.execute_input": "2022-11-15T16:40:28.081164Z",
     "iopub.status.busy": "2022-11-15T16:40:28.080866Z",
     "iopub.status.idle": "2022-11-15T16:40:28.086568Z",
     "shell.execute_reply": "2022-11-15T16:40:28.085664Z"
    },
    "papermill": {
     "duration": 0.019754,
     "end_time": "2022-11-15T16:40:28.088548",
     "exception": false,
     "start_time": "2022-11-15T16:40:28.068794",
     "status": "completed"
    },
    "tags": []
   },
   "outputs": [],
   "source": [
    "def data_transformations(data):\n",
    "        if 'output' in data.columns:\n",
    "            labels=data['output']\n",
    "            data=data.drop('output', axis=1)\n",
    "        else:\n",
    "            labels=None\n",
    "    \n",
    "        \n",
    "        from sklearn.preprocessing import StandardScaler\n",
    "        scaler=StandardScaler()\n",
    "        data_scaled=scaler.fit_transform(data.select_dtypes(include=[np.number]))\n",
    "        \n",
    "        #output=np.hstack([data_scaled,data_cat_1hot])\n",
    "        output=np.hstack([data_scaled,data.select_dtypes(exclude=[np.number])])\n",
    "        \n",
    "        return output, labels"
   ]
  },
  {
   "cell_type": "markdown",
   "id": "90bd4558",
   "metadata": {
    "papermill": {
     "duration": 0.01093,
     "end_time": "2022-11-15T16:40:28.110498",
     "exception": false,
     "start_time": "2022-11-15T16:40:28.099568",
     "status": "completed"
    },
    "tags": []
   },
   "source": [
    "## Transforming data"
   ]
  },
  {
   "cell_type": "code",
   "execution_count": 10,
   "id": "0a095b97",
   "metadata": {
    "execution": {
     "iopub.execute_input": "2022-11-15T16:40:28.134997Z",
     "iopub.status.busy": "2022-11-15T16:40:28.133433Z",
     "iopub.status.idle": "2022-11-15T16:40:28.150629Z",
     "shell.execute_reply": "2022-11-15T16:40:28.149790Z"
    },
    "papermill": {
     "duration": 0.031118,
     "end_time": "2022-11-15T16:40:28.152592",
     "exception": false,
     "start_time": "2022-11-15T16:40:28.121474",
     "status": "completed"
    },
    "tags": []
   },
   "outputs": [],
   "source": [
    "train_data, train_labels = data_transformations(strat_train_set)\n",
    "test_data, test_labels =data_transformations(strat_test_set)"
   ]
  },
  {
   "cell_type": "markdown",
   "id": "25d2e4f1",
   "metadata": {
    "papermill": {
     "duration": 0.010772,
     "end_time": "2022-11-15T16:40:28.174781",
     "exception": false,
     "start_time": "2022-11-15T16:40:28.164009",
     "status": "completed"
    },
    "tags": []
   },
   "source": [
    "## Function to plot confusion matrix"
   ]
  },
  {
   "cell_type": "code",
   "execution_count": 11,
   "id": "1c96f8a4",
   "metadata": {
    "execution": {
     "iopub.execute_input": "2022-11-15T16:40:28.198231Z",
     "iopub.status.busy": "2022-11-15T16:40:28.197490Z",
     "iopub.status.idle": "2022-11-15T16:40:28.206589Z",
     "shell.execute_reply": "2022-11-15T16:40:28.205776Z"
    },
    "papermill": {
     "duration": 0.022689,
     "end_time": "2022-11-15T16:40:28.208468",
     "exception": false,
     "start_time": "2022-11-15T16:40:28.185779",
     "status": "completed"
    },
    "tags": []
   },
   "outputs": [],
   "source": [
    "from sklearn.metrics import classification_report, confusion_matrix\n",
    "import itertools\n",
    "def plot_confusion_matrix(cm, classes,\n",
    "                          normalize=False,\n",
    "                          title='Confusion matrix',\n",
    "                          cmap=plt.cm.Blues):\n",
    "\n",
    "    if normalize:\n",
    "        cm = cm.astype('float') / cm.sum(axis=1)[:, np.newaxis]\n",
    "        print(\"Normalized confusion matrix\")\n",
    "    else:\n",
    "        print('Confusion matrix, without normalization')\n",
    "\n",
    "    print(cm)\n",
    "\n",
    "    plt.imshow(cm, interpolation='nearest', cmap=cmap)\n",
    "    plt.title(title,fontsize=20)\n",
    "    plt.colorbar()\n",
    "    tick_marks = np.arange(len(classes))\n",
    "    plt.xticks(tick_marks, classes, rotation=45,fontsize=15)\n",
    "    plt.yticks(tick_marks, classes,fontsize=15)\n",
    "\n",
    "    fmt = '.2f' if normalize else 'd'\n",
    "    thresh = cm.max() / 2.\n",
    "    for i, j in itertools.product(range(cm.shape[0]), range(cm.shape[1])):\n",
    "        plt.text(j, i, format(cm[i, j], fmt),\n",
    "                 horizontalalignment=\"center\",\n",
    "                 color=\"white\" if cm[i, j] > thresh else \"black\")\n",
    "\n",
    "    #plt.tight_layout()\n",
    "    plt.ylabel('True label',fontsize=15)\n",
    "    plt.xlabel('Predicted label',fontsize=15)"
   ]
  },
  {
   "cell_type": "markdown",
   "id": "ee213c28",
   "metadata": {
    "papermill": {
     "duration": 0.010723,
     "end_time": "2022-11-15T16:40:28.230185",
     "exception": false,
     "start_time": "2022-11-15T16:40:28.219462",
     "status": "completed"
    },
    "tags": []
   },
   "source": [
    "## Function to print the accuracy, precision & other performance factors"
   ]
  },
  {
   "cell_type": "code",
   "execution_count": 12,
   "id": "017e4678",
   "metadata": {
    "execution": {
     "iopub.execute_input": "2022-11-15T16:40:28.253707Z",
     "iopub.status.busy": "2022-11-15T16:40:28.253112Z",
     "iopub.status.idle": "2022-11-15T16:40:28.261890Z",
     "shell.execute_reply": "2022-11-15T16:40:28.260912Z"
    },
    "papermill": {
     "duration": 0.022482,
     "end_time": "2022-11-15T16:40:28.263716",
     "exception": false,
     "start_time": "2022-11-15T16:40:28.241234",
     "status": "completed"
    },
    "tags": []
   },
   "outputs": [],
   "source": [
    "def model_performance(cm):\n",
    "    # Calculating False Positives (FP), False Negatives (FN), True Positives (TP) & True Negatives (TN)\n",
    "    FP = cm.sum(axis=0) - np.diag(cm)  \n",
    "    FN = cm.sum(axis=1) - np.diag(cm)\n",
    "    TP = np.diag(cm)\n",
    "    TN = cm.sum() - (FP + FN + TP)\n",
    "    \n",
    "    # Sensitivity, hit rate, recall, or true positive rate\n",
    "    TPR = TP/(TP+FN)\n",
    "    print (\"The True Positive rate / Recall per class is: \",TPR)\n",
    "\n",
    "\n",
    "    # Precision or positive predictive value\n",
    "    PPV = TP/(TP+FP)\n",
    "    print (\"The Precision per class is: \",PPV)\n",
    "    \n",
    "    # False positive rate or False alarm rate\n",
    "    FPR = FP/(FP+TN)\n",
    "    print (\"The False Alarm rate per class is: \",FPR)\n",
    "    \n",
    "    # False negative rate or Miss Rate\n",
    "    FNR = FN/(TP+FN)\n",
    "    print (\"The Miss Rate rate per class is: \",FNR)\n",
    "    \n",
    "    \n",
    "    # Classification error\n",
    "    CER = (FP+FN)/(TP+FP+FN+TN)\n",
    "    print (\"The Classification error of each class is\", CER)\n",
    "    \n",
    "    # Overall accuracy\n",
    "    ACC = (TP+TN)/(TP+FP+FN+TN)\n",
    "    print (\"The Accuracy of each class is\", ACC)\n",
    "    print(\"\")\n",
    "    \n",
    "    ##Total averages :\n",
    "    print (\"The average Recall is: \",TPR.sum()/2)\n",
    "    print (\"The average Precision is: \",PPV.sum()/2)\n",
    "    print (\"The average False Alarm is: \",FPR.sum()/2)\n",
    "    print (\"The average Miss Rate rate is: \",FNR.sum()/2)\n",
    "    print (\"The average Classification error is\", CER.sum()/2)\n",
    "    print (\"The average Accuracy is\", ACC.sum()/2)\n"
   ]
  },
  {
   "cell_type": "markdown",
   "id": "5aa4e6ea",
   "metadata": {
    "papermill": {
     "duration": 0.010703,
     "end_time": "2022-11-15T16:40:28.285524",
     "exception": false,
     "start_time": "2022-11-15T16:40:28.274821",
     "status": "completed"
    },
    "tags": []
   },
   "source": [
    "# 2. Logistic Regression\n",
    "<a class=\"anchor\"  id=\"section2\"></a>"
   ]
  },
  {
   "cell_type": "code",
   "execution_count": 13,
   "id": "75909403",
   "metadata": {
    "execution": {
     "iopub.execute_input": "2022-11-15T16:40:28.308705Z",
     "iopub.status.busy": "2022-11-15T16:40:28.308104Z",
     "iopub.status.idle": "2022-11-15T16:40:28.319291Z",
     "shell.execute_reply": "2022-11-15T16:40:28.318377Z"
    },
    "papermill": {
     "duration": 0.024876,
     "end_time": "2022-11-15T16:40:28.321276",
     "exception": false,
     "start_time": "2022-11-15T16:40:28.296400",
     "status": "completed"
    },
    "tags": []
   },
   "outputs": [
    {
     "data": {
      "text/plain": [
       "LogisticRegression(C=0.01, solver='liblinear')"
      ]
     },
     "execution_count": 13,
     "metadata": {},
     "output_type": "execute_result"
    }
   ],
   "source": [
    "from sklearn.linear_model import LogisticRegression\n",
    "from sklearn.metrics import confusion_matrix\n",
    "LR = LogisticRegression(C=0.01, solver='liblinear').fit(train_data,train_labels)\n",
    "yhat_lr = LR.predict(test_data)\n",
    "LR"
   ]
  },
  {
   "cell_type": "code",
   "execution_count": 14,
   "id": "0314f327",
   "metadata": {
    "execution": {
     "iopub.execute_input": "2022-11-15T16:40:28.345229Z",
     "iopub.status.busy": "2022-11-15T16:40:28.344392Z",
     "iopub.status.idle": "2022-11-15T16:40:28.578793Z",
     "shell.execute_reply": "2022-11-15T16:40:28.577838Z"
    },
    "papermill": {
     "duration": 0.248432,
     "end_time": "2022-11-15T16:40:28.580910",
     "exception": false,
     "start_time": "2022-11-15T16:40:28.332478",
     "status": "completed"
    },
    "tags": []
   },
   "outputs": [
    {
     "name": "stdout",
     "output_type": "stream",
     "text": [
      "Confusion matrix, without normalization\n",
      "[[48  6]\n",
      " [15 31]]\n"
     ]
    },
    {
     "data": {
      "image/png": "[encoded data removed]",
      "text/plain": [
       "<Figure size 432x288 with 2 Axes>"
      ]
     },
     "metadata": {
      "needs_background": "light"
     },
     "output_type": "display_data"
    }
   ],
   "source": [
    "# Compute confusion matrix\n",
    "cnf_matrix_LR = confusion_matrix(test_labels, yhat_lr, labels=[1,0])\n",
    "np.set_printoptions(precision=2)\n",
    "\n",
    "\n",
    "# Plot non-normalized confusion matrix\n",
    "plt.figure()\n",
    "plot_confusion_matrix(cnf_matrix_LR, classes=['Heart attack=1','Heart attack=0'],normalize= False,  title='Confusion matrix')"
   ]
  },
  {
   "cell_type": "code",
   "execution_count": 15,
   "id": "b376de88",
   "metadata": {
    "execution": {
     "iopub.execute_input": "2022-11-15T16:40:28.605610Z",
     "iopub.status.busy": "2022-11-15T16:40:28.605334Z",
     "iopub.status.idle": "2022-11-15T16:40:28.611944Z",
     "shell.execute_reply": "2022-11-15T16:40:28.610880Z"
    },
    "papermill": {
     "duration": 0.022116,
     "end_time": "2022-11-15T16:40:28.614835",
     "exception": false,
     "start_time": "2022-11-15T16:40:28.592719",
     "status": "completed"
    },
    "tags": []
   },
   "outputs": [
    {
     "name": "stdout",
     "output_type": "stream",
     "text": [
      "The True Positive rate / Recall per class is:  [0.89 0.67]\n",
      "The Precision per class is:  [0.76 0.84]\n",
      "The False Alarm rate per class is:  [0.33 0.11]\n",
      "The Miss Rate rate per class is:  [0.11 0.33]\n",
      "The Classification error of each class is [0.21 0.21]\n",
      "The Accuracy of each class is [0.79 0.79]\n",
      "\n",
      "The average Recall is:  0.7814009661835748\n",
      "The average Precision is:  0.7998712998712998\n",
      "The average False Alarm is:  0.21859903381642512\n",
      "The average Miss Rate rate is:  0.21859903381642512\n",
      "The average Classification error is 0.21\n",
      "The average Accuracy is 0.79\n"
     ]
    }
   ],
   "source": [
    "model_performance(cnf_matrix_LR)"
   ]
  },
  {
   "cell_type": "code",
   "execution_count": 16,
   "id": "b188c97d",
   "metadata": {
    "execution": {
     "iopub.execute_input": "2022-11-15T16:40:28.640841Z",
     "iopub.status.busy": "2022-11-15T16:40:28.640234Z",
     "iopub.status.idle": "2022-11-15T16:40:28.969860Z",
     "shell.execute_reply": "2022-11-15T16:40:28.968797Z"
    },
    "papermill": {
     "duration": 0.344543,
     "end_time": "2022-11-15T16:40:28.972136",
     "exception": false,
     "start_time": "2022-11-15T16:40:28.627593",
     "status": "completed"
    },
    "tags": []
   },
   "outputs": [
    {
     "name": "stdout",
     "output_type": "stream",
     "text": [
      "ROC AUC score is\n",
      "0.8760064412238325\n"
     ]
    },
    {
     "data": {
      "image/png": "[encoded data removed]",
      "text/plain": [
       "<Figure size 432x288 with 1 Axes>"
      ]
     },
     "metadata": {
      "needs_background": "light"
     },
     "output_type": "display_data"
    }
   ],
   "source": [
    "from sklearn.metrics import roc_auc_score\n",
    "from sklearn import metrics\n",
    "\n",
    "y_pred_proba_lr = LR.predict_proba(test_data)[:,1]\n",
    "fpr, tpr, threshold = metrics.roc_curve(test_labels,y_pred_proba_lr)\n",
    "print('ROC AUC score is')\n",
    "print(roc_auc_score(test_labels,y_pred_proba_lr))\n",
    "plt.plot(fpr,tpr)\n",
    "plt.ylabel('True Positive Rate')\n",
    "plt.xlabel('False Positive Rate')\n",
    "plt.show()"
   ]
  },
  {
   "cell_type": "markdown",
   "id": "abb932b7",
   "metadata": {
    "papermill": {
     "duration": 0.011908,
     "end_time": "2022-11-15T16:40:28.996672",
     "exception": false,
     "start_time": "2022-11-15T16:40:28.984764",
     "status": "completed"
    },
    "tags": []
   },
   "source": [
    "# 3. Decision Tree\n",
    "<a class=\"anchor\"  id=\"section3\"></a>"
   ]
  },
  {
   "cell_type": "code",
   "execution_count": 17,
   "id": "bec4fc84",
   "metadata": {
    "execution": {
     "iopub.execute_input": "2022-11-15T16:40:29.022568Z",
     "iopub.status.busy": "2022-11-15T16:40:29.021762Z",
     "iopub.status.idle": "2022-11-15T16:40:29.029613Z",
     "shell.execute_reply": "2022-11-15T16:40:29.028709Z"
    },
    "papermill": {
     "duration": 0.023089,
     "end_time": "2022-11-15T16:40:29.031771",
     "exception": false,
     "start_time": "2022-11-15T16:40:29.008682",
     "status": "completed"
    },
    "tags": []
   },
   "outputs": [],
   "source": [
    "from sklearn.tree import DecisionTreeClassifier\n",
    "\n",
    "tree_clf=DecisionTreeClassifier(criterion='entropy',max_depth=2,random_state=1)\n",
    "tree_clf.fit(train_data,train_labels)\n",
    "\n",
    "yhat_dectree = tree_clf.predict(test_data)"
   ]
  },
  {
   "cell_type": "code",
   "execution_count": 18,
   "id": "b3d8e95a",
   "metadata": {
    "execution": {
     "iopub.execute_input": "2022-11-15T16:40:29.057456Z",
     "iopub.status.busy": "2022-11-15T16:40:29.056634Z",
     "iopub.status.idle": "2022-11-15T16:40:29.287817Z",
     "shell.execute_reply": "2022-11-15T16:40:29.286866Z"
    },
    "papermill": {
     "duration": 0.245971,
     "end_time": "2022-11-15T16:40:29.289921",
     "exception": false,
     "start_time": "2022-11-15T16:40:29.043950",
     "status": "completed"
    },
    "tags": []
   },
   "outputs": [
    {
     "name": "stdout",
     "output_type": "stream",
     "text": [
      "Confusion matrix, without normalization\n",
      "[[39 15]\n",
      " [18 28]]\n"
     ]
    },
    {
     "data": {
      "image/png": "[encoded data removed]",
      "text/plain": [
       "<Figure size 432x288 with 2 Axes>"
      ]
     },
     "metadata": {
      "needs_background": "light"
     },
     "output_type": "display_data"
    }
   ],
   "source": [
    "# Compute confusion matrix\n",
    "cnf_matrix_DT = confusion_matrix(test_labels, yhat_dectree, labels=[1,0])\n",
    "np.set_printoptions(precision=2)\n",
    "\n",
    "\n",
    "# Plot non-normalized confusion matrix\n",
    "plt.figure()\n",
    "plot_confusion_matrix(cnf_matrix_DT, classes=['Heart attack=1','Heart attack=0'],normalize= False,  title='Confusion matrix')"
   ]
  },
  {
   "cell_type": "code",
   "execution_count": 19,
   "id": "1d5d75b2",
   "metadata": {
    "execution": {
     "iopub.execute_input": "2022-11-15T16:40:29.316288Z",
     "iopub.status.busy": "2022-11-15T16:40:29.316008Z",
     "iopub.status.idle": "2022-11-15T16:40:29.322049Z",
     "shell.execute_reply": "2022-11-15T16:40:29.321106Z"
    },
    "papermill": {
     "duration": 0.022045,
     "end_time": "2022-11-15T16:40:29.324682",
     "exception": false,
     "start_time": "2022-11-15T16:40:29.302637",
     "status": "completed"
    },
    "tags": []
   },
   "outputs": [
    {
     "name": "stdout",
     "output_type": "stream",
     "text": [
      "The True Positive rate / Recall per class is:  [0.72 0.61]\n",
      "The Precision per class is:  [0.68 0.65]\n",
      "The False Alarm rate per class is:  [0.39 0.28]\n",
      "The Miss Rate rate per class is:  [0.28 0.39]\n",
      "The Classification error of each class is [0.33 0.33]\n",
      "The Accuracy of each class is [0.67 0.67]\n",
      "\n",
      "The average Recall is:  0.6654589371980677\n",
      "The average Precision is:  0.667686658506732\n",
      "The average False Alarm is:  0.3345410628019324\n",
      "The average Miss Rate rate is:  0.3345410628019324\n",
      "The average Classification error is 0.33\n",
      "The average Accuracy is 0.67\n"
     ]
    }
   ],
   "source": [
    "model_performance(cnf_matrix_DT)"
   ]
  },
  {
   "cell_type": "code",
   "execution_count": 20,
   "id": "041efd2e",
   "metadata": {
    "execution": {
     "iopub.execute_input": "2022-11-15T16:40:29.354174Z",
     "iopub.status.busy": "2022-11-15T16:40:29.353425Z",
     "iopub.status.idle": "2022-11-15T16:40:29.534968Z",
     "shell.execute_reply": "2022-11-15T16:40:29.533329Z"
    },
    "papermill": {
     "duration": 0.1967,
     "end_time": "2022-11-15T16:40:29.536951",
     "exception": false,
     "start_time": "2022-11-15T16:40:29.340251",
     "status": "completed"
    },
    "tags": []
   },
   "outputs": [
    {
     "name": "stdout",
     "output_type": "stream",
     "text": [
      "ROC AUC score is\n",
      "0.7413446054750402\n"
     ]
    },
    {
     "data": {
      "image/png": "[encoded data removed]",
      "text/plain": [
       "<Figure size 432x288 with 1 Axes>"
      ]
     },
     "metadata": {
      "needs_background": "light"
     },
     "output_type": "display_data"
    }
   ],
   "source": [
    "from sklearn.metrics import roc_auc_score\n",
    "from sklearn import metrics\n",
    "\n",
    "y_pred_proba_dt = tree_clf.predict_proba(test_data)[:,1]\n",
    "fpr, tpr, threshold = metrics.roc_curve(test_labels,y_pred_proba_dt)\n",
    "print('ROC AUC score is')\n",
    "print(roc_auc_score(test_labels,y_pred_proba_dt))\n",
    "plt.plot(fpr,tpr)\n",
    "plt.ylabel('True Positive Rate')\n",
    "plt.xlabel('False Positive Rate')\n",
    "plt.show()"
   ]
  },
  {
   "cell_type": "markdown",
   "id": "0bf5494b",
   "metadata": {
    "papermill": {
     "duration": 0.013017,
     "end_time": "2022-11-15T16:40:29.563548",
     "exception": false,
     "start_time": "2022-11-15T16:40:29.550531",
     "status": "completed"
    },
    "tags": []
   },
   "source": [
    "# 4. Random Forest\n",
    "<a class=\"anchor\"  id=\"section4\"></a>"
   ]
  },
  {
   "cell_type": "code",
   "execution_count": 21,
   "id": "c837ebcc",
   "metadata": {
    "execution": {
     "iopub.execute_input": "2022-11-15T16:40:29.590487Z",
     "iopub.status.busy": "2022-11-15T16:40:29.590189Z",
     "iopub.status.idle": "2022-11-15T16:40:29.773550Z",
     "shell.execute_reply": "2022-11-15T16:40:29.772452Z"
    },
    "papermill": {
     "duration": 0.19966,
     "end_time": "2022-11-15T16:40:29.776047",
     "exception": false,
     "start_time": "2022-11-15T16:40:29.576387",
     "status": "completed"
    },
    "tags": []
   },
   "outputs": [],
   "source": [
    "from sklearn.ensemble import RandomForestClassifier\n",
    "\n",
    "rnd_clf=RandomForestClassifier(n_estimators=100,criterion='entropy')\n",
    "rnd_clf.fit(train_data,train_labels)\n",
    "\n",
    "y_pred_rf=rnd_clf.predict(test_data)\n"
   ]
  },
  {
   "cell_type": "code",
   "execution_count": 22,
   "id": "9ffa5f59",
   "metadata": {
    "execution": {
     "iopub.execute_input": "2022-11-15T16:40:29.805214Z",
     "iopub.status.busy": "2022-11-15T16:40:29.803745Z",
     "iopub.status.idle": "2022-11-15T16:40:30.026773Z",
     "shell.execute_reply": "2022-11-15T16:40:30.025888Z"
    },
    "papermill": {
     "duration": 0.239181,
     "end_time": "2022-11-15T16:40:30.028856",
     "exception": false,
     "start_time": "2022-11-15T16:40:29.789675",
     "status": "completed"
    },
    "tags": []
   },
   "outputs": [
    {
     "name": "stdout",
     "output_type": "stream",
     "text": [
      "Confusion matrix, without normalization\n",
      "[[47  7]\n",
      " [13 33]]\n"
     ]
    },
    {
     "data": {
      "image/png": "[encoded data removed]",
      "text/plain": [
       "<Figure size 432x288 with 2 Axes>"
      ]
     },
     "metadata": {
      "needs_background": "light"
     },
     "output_type": "display_data"
    }
   ],
   "source": [
    "# Compute confusion matrix\n",
    "cnf_matrix_RF = confusion_matrix(test_labels, y_pred_rf, labels=[1,0])\n",
    "np.set_printoptions(precision=2)\n",
    "\n",
    "\n",
    "# Plot non-normalized confusion matrix\n",
    "plt.figure()\n",
    "plot_confusion_matrix(cnf_matrix_RF, classes=['churn=1','churn=0'],normalize= False,  title='Confusion matrix')"
   ]
  },
  {
   "cell_type": "code",
   "execution_count": 23,
   "id": "7543e478",
   "metadata": {
    "execution": {
     "iopub.execute_input": "2022-11-15T16:40:30.057518Z",
     "iopub.status.busy": "2022-11-15T16:40:30.057226Z",
     "iopub.status.idle": "2022-11-15T16:40:30.063293Z",
     "shell.execute_reply": "2022-11-15T16:40:30.062381Z"
    },
    "papermill": {
     "duration": 0.023308,
     "end_time": "2022-11-15T16:40:30.066237",
     "exception": false,
     "start_time": "2022-11-15T16:40:30.042929",
     "status": "completed"
    },
    "tags": []
   },
   "outputs": [
    {
     "name": "stdout",
     "output_type": "stream",
     "text": [
      "The True Positive rate / Recall per class is:  [0.87 0.72]\n",
      "The Precision per class is:  [0.78 0.82]\n",
      "The False Alarm rate per class is:  [0.28 0.13]\n",
      "The Miss Rate rate per class is:  [0.13 0.28]\n",
      "The Classification error of each class is [0.2 0.2]\n",
      "The Accuracy of each class is [0.8 0.8]\n",
      "\n",
      "The average Recall is:  0.7938808373590982\n",
      "The average Precision is:  0.8041666666666667\n",
      "The average False Alarm is:  0.20611916264090174\n",
      "The average Miss Rate rate is:  0.20611916264090174\n",
      "The average Classification error is 0.2\n",
      "The average Accuracy is 0.8\n"
     ]
    }
   ],
   "source": [
    "model_performance(cnf_matrix_RF)"
   ]
  },
  {
   "cell_type": "code",
   "execution_count": 24,
   "id": "ca7ced18",
   "metadata": {
    "execution": {
     "iopub.execute_input": "2022-11-15T16:40:30.094691Z",
     "iopub.status.busy": "2022-11-15T16:40:30.094427Z",
     "iopub.status.idle": "2022-11-15T16:40:30.289211Z",
     "shell.execute_reply": "2022-11-15T16:40:30.288228Z"
    },
    "papermill": {
     "duration": 0.211079,
     "end_time": "2022-11-15T16:40:30.291469",
     "exception": false,
     "start_time": "2022-11-15T16:40:30.080390",
     "status": "completed"
    },
    "tags": []
   },
   "outputs": [
    {
     "name": "stdout",
     "output_type": "stream",
     "text": [
      "ROC AUC score is\n",
      "0.8707729468599034\n"
     ]
    },
    {
     "data": {
      "image/png": "[encoded data removed]",
      "text/plain": [
       "<Figure size 432x288 with 1 Axes>"
      ]
     },
     "metadata": {
      "needs_background": "light"
     },
     "output_type": "display_data"
    }
   ],
   "source": [
    "from sklearn.metrics import roc_auc_score\n",
    "from sklearn import metrics\n",
    "\n",
    "y_pred_proba_rf = rnd_clf.predict_proba(test_data)[:,1]\n",
    "fpr, tpr, threshold = metrics.roc_curve(test_labels,y_pred_proba_rf)\n",
    "print('ROC AUC score is')\n",
    "print(roc_auc_score(test_labels,y_pred_proba_rf))\n",
    "plt.plot(fpr,tpr)\n",
    "plt.ylabel('True Positive Rate')\n",
    "plt.xlabel('False Positive Rate')\n",
    "plt.show()"
   ]
  },
  {
   "cell_type": "code",
   "execution_count": 25,
   "id": "1bd2f028",
   "metadata": {
    "execution": {
     "iopub.execute_input": "2022-11-15T16:40:30.321526Z",
     "iopub.status.busy": "2022-11-15T16:40:30.320694Z",
     "iopub.status.idle": "2022-11-15T16:40:35.414368Z",
     "shell.execute_reply": "2022-11-15T16:40:35.412801Z"
    },
    "papermill": {
     "duration": 5.112336,
     "end_time": "2022-11-15T16:40:35.418377",
     "exception": false,
     "start_time": "2022-11-15T16:40:30.306041",
     "status": "completed"
    },
    "tags": []
   },
   "outputs": [
    {
     "name": "stdout",
     "output_type": "stream",
     "text": [
      "Classification accuracy on test set with max features = 1 and max_depth = None: 0.790\n",
      "Classification accuracy on test set with max features = 1 and max_depth = 2: 0.810\n",
      "Classification accuracy on test set with max features = 1 and max_depth = 3: 0.810\n",
      "Classification accuracy on test set with max features = 1 and max_depth = 4: 0.800\n",
      "Classification accuracy on test set with max features = 1 and max_depth = 5: 0.820\n",
      "Classification accuracy on test set with max features = sqrt and max_depth = None: 0.790\n",
      "Classification accuracy on test set with max features = sqrt and max_depth = 2: 0.800\n",
      "Classification accuracy on test set with max features = sqrt and max_depth = 3: 0.810\n",
      "Classification accuracy on test set with max features = sqrt and max_depth = 4: 0.800\n",
      "Classification accuracy on test set with max features = sqrt and max_depth = 5: 0.800\n",
      "Classification accuracy on test set with max features = log2 and max_depth = None: 0.790\n",
      "Classification accuracy on test set with max features = log2 and max_depth = 2: 0.800\n",
      "Classification accuracy on test set with max features = log2 and max_depth = 3: 0.810\n",
      "Classification accuracy on test set with max features = log2 and max_depth = 4: 0.800\n",
      "Classification accuracy on test set with max features = log2 and max_depth = 5: 0.800\n"
     ]
    }
   ],
   "source": [
    "# Tunning Random Forest\n",
    "\n",
    "from itertools import product\n",
    "n_estimators = 100\n",
    "max_features = [1, 'sqrt', 'log2']\n",
    "max_depths = [None, 2,3,4,5]\n",
    "for f, d in product(max_features, max_depths):\n",
    "    rnd_clf = RandomForestClassifier(n_estimators=n_estimators, \n",
    "                                criterion='entropy', \n",
    "                                max_features=f, \n",
    "                                max_depth=d, \n",
    "                                n_jobs=2,\n",
    "                                random_state=1337)\n",
    "    rnd_clf.fit(train_data,train_labels)\n",
    "    prediction_test = rnd_clf.predict(X=test_data)\n",
    "    print('Classification accuracy on test set with max features = {} and max_depth = {}: {:.3f}'.format(f, d, accuracy_score(test_labels,prediction_test)))"
   ]
  },
  {
   "cell_type": "markdown",
   "id": "37053d33",
   "metadata": {
    "papermill": {
     "duration": 0.024666,
     "end_time": "2022-11-15T16:40:35.469931",
     "exception": false,
     "start_time": "2022-11-15T16:40:35.445265",
     "status": "completed"
    },
    "tags": []
   },
   "source": [
    "# 5. XGBoost\n",
    "<a class=\"anchor\"  id=\"section5\"></a>"
   ]
  },
  {
   "cell_type": "code",
   "execution_count": 26,
   "id": "f885ec2b",
   "metadata": {
    "execution": {
     "iopub.execute_input": "2022-11-15T16:40:35.518772Z",
     "iopub.status.busy": "2022-11-15T16:40:35.518392Z",
     "iopub.status.idle": "2022-11-15T16:40:39.312386Z",
     "shell.execute_reply": "2022-11-15T16:40:39.311453Z"
    },
    "papermill": {
     "duration": 3.820313,
     "end_time": "2022-11-15T16:40:39.314893",
     "exception": false,
     "start_time": "2022-11-15T16:40:35.494580",
     "status": "completed"
    },
    "tags": []
   },
   "outputs": [
    {
     "name": "stdout",
     "output_type": "stream",
     "text": [
      "Fitting 5 folds for each of 5 candidates, totalling 25 fits\n",
      "[CV 1/5] END colsample_bytree=0.5, gamma=0.0, learning_rate=0.15, max_depth=5, min_child_weight=5;, score=0.884 total time=   2.1s\n",
      "[CV 2/5] END colsample_bytree=0.5, gamma=0.0, learning_rate=0.15, max_depth=5, min_child_weight=5;, score=0.833 total time=   0.1s\n",
      "[CV 3/5] END colsample_bytree=0.5, gamma=0.0, learning_rate=0.15, max_depth=5, min_child_weight=5;, score=0.959 total time=   0.1s\n",
      "[CV 4/5] END colsample_bytree=0.5, gamma=0.0, learning_rate=0.15, max_depth=5, min_child_weight=5;, score=0.914 total time=   0.1s\n",
      "[CV 5/5] END colsample_bytree=0.5, gamma=0.0, learning_rate=0.15, max_depth=5, min_child_weight=5;, score=0.970 total time=   0.1s\n",
      "[CV 1/5] END colsample_bytree=0.7, gamma=0.4, learning_rate=0.15, max_depth=5, min_child_weight=7;, score=0.877 total time=   0.1s\n",
      "[CV 2/5] END colsample_bytree=0.7, gamma=0.4, learning_rate=0.15, max_depth=5, min_child_weight=7;, score=0.841 total time=   0.1s\n",
      "[CV 3/5] END colsample_bytree=0.7, gamma=0.4, learning_rate=0.15, max_depth=5, min_child_weight=7;, score=0.952 total time=   0.1s\n",
      "[CV 4/5] END colsample_bytree=0.7, gamma=0.4, learning_rate=0.15, max_depth=5, min_child_weight=7;, score=0.912 total time=   0.1s\n",
      "[CV 5/5] END colsample_bytree=0.7, gamma=0.4, learning_rate=0.15, max_depth=5, min_child_weight=7;, score=0.965 total time=   0.1s\n",
      "[CV 1/5] END colsample_bytree=0.3, gamma=0.0, learning_rate=0.3, max_depth=2, min_child_weight=5;, score=0.886 total time=   0.1s\n",
      "[CV 2/5] END colsample_bytree=0.3, gamma=0.0, learning_rate=0.3, max_depth=2, min_child_weight=5;, score=0.844 total time=   0.1s\n",
      "[CV 3/5] END colsample_bytree=0.3, gamma=0.0, learning_rate=0.3, max_depth=2, min_child_weight=5;, score=0.971 total time=   0.1s\n",
      "[CV 4/5] END colsample_bytree=0.3, gamma=0.0, learning_rate=0.3, max_depth=2, min_child_weight=5;, score=0.917 total time=   0.1s\n",
      "[CV 5/5] END colsample_bytree=0.3, gamma=0.0, learning_rate=0.3, max_depth=2, min_child_weight=5;, score=0.972 total time=   0.1s\n",
      "[CV 1/5] END colsample_bytree=0.3, gamma=0.3, learning_rate=0.15, max_depth=8, min_child_weight=1;, score=0.879 total time=   0.1s\n",
      "[CV 2/5] END colsample_bytree=0.3, gamma=0.3, learning_rate=0.15, max_depth=8, min_child_weight=1;, score=0.830 total time=   0.1s\n",
      "[CV 3/5] END colsample_bytree=0.3, gamma=0.3, learning_rate=0.15, max_depth=8, min_child_weight=1;, score=0.952 total time=   0.1s\n",
      "[CV 4/5] END colsample_bytree=0.3, gamma=0.3, learning_rate=0.15, max_depth=8, min_child_weight=1;, score=0.902 total time=   0.1s\n",
      "[CV 5/5] END colsample_bytree=0.3, gamma=0.3, learning_rate=0.15, max_depth=8, min_child_weight=1;, score=0.972 total time=   0.1s\n",
      "[CV 1/5] END colsample_bytree=0.5, gamma=0.0, learning_rate=0.25, max_depth=4, min_child_weight=7;, score=0.877 total time=   0.1s\n",
      "[CV 2/5] END colsample_bytree=0.5, gamma=0.0, learning_rate=0.25, max_depth=4, min_child_weight=7;, score=0.837 total time=   0.1s\n",
      "[CV 3/5] END colsample_bytree=0.5, gamma=0.0, learning_rate=0.25, max_depth=4, min_child_weight=7;, score=0.955 total time=   0.1s\n",
      "[CV 4/5] END colsample_bytree=0.5, gamma=0.0, learning_rate=0.25, max_depth=4, min_child_weight=7;, score=0.907 total time=   0.1s\n",
      "[CV 5/5] END colsample_bytree=0.5, gamma=0.0, learning_rate=0.25, max_depth=4, min_child_weight=7;, score=0.965 total time=   0.1s\n"
     ]
    },
    {
     "data": {
      "text/plain": [
       "RandomizedSearchCV(cv=5,\n",
       "                   estimator=XGBClassifier(base_score=None, booster=None,\n",
       "                                           callbacks=None,\n",
       "                                           colsample_bylevel=None,\n",
       "                                           colsample_bynode=None,\n",
       "                                           colsample_bytree=None,\n",
       "                                           early_stopping_rounds=None,\n",
       "                                           enable_categorical=False,\n",
       "                                           eval_metric=None, gamma=None,\n",
       "                                           gpu_id=None, grow_policy=None,\n",
       "                                           importance_type=None,\n",
       "                                           interaction_constraints=None,\n",
       "                                           learning_rate=None, max_bin=None,...\n",
       "                                           n_estimators=100, n_jobs=None,\n",
       "                                           num_parallel_tree=None,\n",
       "                                           predictor=None, random_state=None,\n",
       "                                           reg_alpha=None, reg_lambda=None, ...),\n",
       "                   n_iter=5,\n",
       "                   param_distributions={'colsample_bytree': [0.3, 0.4, 0.5,\n",
       "                                                             0.7],\n",
       "                                        'gamma': [0.0, 0.1, 0.2, 0.3, 0.4],\n",
       "                                        'learning_rate': [0.05, 0.1, 0.15, 0.2,\n",
       "                                                          0.25, 0.3],\n",
       "                                        'max_depth': [2, 3, 4, 5, 6, 8, 10, 12,\n",
       "                                                      15],\n",
       "                                        'min_child_weight': [1, 3, 5, 7]},\n",
       "                   scoring='roc_auc', verbose=3)"
      ]
     },
     "execution_count": 26,
     "metadata": {},
     "output_type": "execute_result"
    }
   ],
   "source": [
    "from sklearn.model_selection import RandomizedSearchCV\n",
    "import xgboost\n",
    "\n",
    "classifier=xgboost.XGBClassifier(tree_method='gpu_hist')\n",
    "\n",
    "params={\n",
    "    \"learning_rate\":[0.05,0.10,0.15,0.20,0.25,0.30],\n",
    "    \"max_depth\":[2,3,4,5,6,8,10,12,15],\n",
    "    \"min_child_weight\":[1,3,5,7],\n",
    "    \"gamma\":[0.0,0.1,0.2,0.3,0.4],\n",
    "    \"colsample_bytree\":[0.3,0.4,0.5,0.7]}\n",
    "\n",
    "clf =RandomizedSearchCV(classifier,param_distributions=params,n_iter=5,scoring='roc_auc',cv=5,verbose=3)\n",
    "clf.fit(train_data,train_labels)"
   ]
  },
  {
   "cell_type": "code",
   "execution_count": 27,
   "id": "c96bc10b",
   "metadata": {
    "execution": {
     "iopub.execute_input": "2022-11-15T16:40:39.347834Z",
     "iopub.status.busy": "2022-11-15T16:40:39.347256Z",
     "iopub.status.idle": "2022-11-15T16:40:39.354282Z",
     "shell.execute_reply": "2022-11-15T16:40:39.353110Z"
    },
    "papermill": {
     "duration": 0.02499,
     "end_time": "2022-11-15T16:40:39.356241",
     "exception": false,
     "start_time": "2022-11-15T16:40:39.331251",
     "status": "completed"
    },
    "tags": []
   },
   "outputs": [
    {
     "data": {
      "text/plain": [
       "{'min_child_weight': 5,\n",
       " 'max_depth': 2,\n",
       " 'learning_rate': 0.3,\n",
       " 'gamma': 0.0,\n",
       " 'colsample_bytree': 0.3}"
      ]
     },
     "execution_count": 27,
     "metadata": {},
     "output_type": "execute_result"
    }
   ],
   "source": [
    "clf.best_params_"
   ]
  },
  {
   "cell_type": "code",
   "execution_count": 28,
   "id": "25ece34c",
   "metadata": {
    "execution": {
     "iopub.execute_input": "2022-11-15T16:40:39.387785Z",
     "iopub.status.busy": "2022-11-15T16:40:39.387038Z",
     "iopub.status.idle": "2022-11-15T16:40:39.391635Z",
     "shell.execute_reply": "2022-11-15T16:40:39.390762Z"
    },
    "papermill": {
     "duration": 0.022234,
     "end_time": "2022-11-15T16:40:39.393617",
     "exception": false,
     "start_time": "2022-11-15T16:40:39.371383",
     "status": "completed"
    },
    "tags": []
   },
   "outputs": [],
   "source": [
    "best_model=clf.best_estimator_"
   ]
  },
  {
   "cell_type": "code",
   "execution_count": 29,
   "id": "7139ceb9",
   "metadata": {
    "execution": {
     "iopub.execute_input": "2022-11-15T16:40:39.424500Z",
     "iopub.status.busy": "2022-11-15T16:40:39.424240Z",
     "iopub.status.idle": "2022-11-15T16:40:39.487418Z",
     "shell.execute_reply": "2022-11-15T16:40:39.486749Z"
    },
    "papermill": {
     "duration": 0.081101,
     "end_time": "2022-11-15T16:40:39.489558",
     "exception": false,
     "start_time": "2022-11-15T16:40:39.408457",
     "status": "completed"
    },
    "tags": []
   },
   "outputs": [],
   "source": [
    "best_model.fit(train_data,train_labels)\n",
    "\n",
    "Y_pred_xgboost = best_model.predict(test_data)"
   ]
  },
  {
   "cell_type": "code",
   "execution_count": 30,
   "id": "20176d82",
   "metadata": {
    "execution": {
     "iopub.execute_input": "2022-11-15T16:40:39.522933Z",
     "iopub.status.busy": "2022-11-15T16:40:39.522622Z",
     "iopub.status.idle": "2022-11-15T16:40:39.748903Z",
     "shell.execute_reply": "2022-11-15T16:40:39.747920Z"
    },
    "papermill": {
     "duration": 0.244123,
     "end_time": "2022-11-15T16:40:39.750895",
     "exception": false,
     "start_time": "2022-11-15T16:40:39.506772",
     "status": "completed"
    },
    "tags": []
   },
   "outputs": [
    {
     "name": "stdout",
     "output_type": "stream",
     "text": [
      "Confusion matrix, without normalization\n",
      "[[47  7]\n",
      " [12 34]]\n"
     ]
    },
    {
     "data": {
      "image/png": "[encoded data removed]",
      "text/plain": [
       "<Figure size 432x288 with 2 Axes>"
      ]
     },
     "metadata": {
      "needs_background": "light"
     },
     "output_type": "display_data"
    }
   ],
   "source": [
    "# Compute confusion matrix\n",
    "cnf_matrix_XG = confusion_matrix(test_labels, Y_pred_xgboost, labels=[1,0])\n",
    "np.set_printoptions(precision=2)\n",
    "\n",
    "\n",
    "# Plot non-normalized confusion matrix\n",
    "plt.figure()\n",
    "plot_confusion_matrix(cnf_matrix_XG, classes=['churn=1','churn=0'],normalize= False,  title='Confusion matrix')"
   ]
  },
  {
   "cell_type": "code",
   "execution_count": 31,
   "id": "6e9ee4dc",
   "metadata": {
    "execution": {
     "iopub.execute_input": "2022-11-15T16:40:39.784837Z",
     "iopub.status.busy": "2022-11-15T16:40:39.784053Z",
     "iopub.status.idle": "2022-11-15T16:40:39.790472Z",
     "shell.execute_reply": "2022-11-15T16:40:39.789474Z"
    },
    "papermill": {
     "duration": 0.025928,
     "end_time": "2022-11-15T16:40:39.792864",
     "exception": false,
     "start_time": "2022-11-15T16:40:39.766936",
     "status": "completed"
    },
    "tags": []
   },
   "outputs": [
    {
     "name": "stdout",
     "output_type": "stream",
     "text": [
      "The True Positive rate / Recall per class is:  [0.87 0.74]\n",
      "The Precision per class is:  [0.8  0.83]\n",
      "The False Alarm rate per class is:  [0.26 0.13]\n",
      "The Miss Rate rate per class is:  [0.13 0.26]\n",
      "The Classification error of each class is [0.19 0.19]\n",
      "The Accuracy of each class is [0.81 0.81]\n",
      "\n",
      "The average Recall is:  0.8047504025764896\n",
      "The average Precision is:  0.8129392310872261\n",
      "The average False Alarm is:  0.19524959742351045\n",
      "The average Miss Rate rate is:  0.19524959742351045\n",
      "The average Classification error is 0.19\n",
      "The average Accuracy is 0.81\n"
     ]
    }
   ],
   "source": [
    "model_performance(cnf_matrix_XG)"
   ]
  },
  {
   "cell_type": "code",
   "execution_count": 32,
   "id": "08a1cd59",
   "metadata": {
    "execution": {
     "iopub.execute_input": "2022-11-15T16:40:39.826621Z",
     "iopub.status.busy": "2022-11-15T16:40:39.825836Z",
     "iopub.status.idle": "2022-11-15T16:40:40.012900Z",
     "shell.execute_reply": "2022-11-15T16:40:40.012055Z"
    },
    "papermill": {
     "duration": 0.205924,
     "end_time": "2022-11-15T16:40:40.014815",
     "exception": false,
     "start_time": "2022-11-15T16:40:39.808891",
     "status": "completed"
    },
    "tags": []
   },
   "outputs": [
    {
     "name": "stdout",
     "output_type": "stream",
     "text": [
      "ROC AUC score is\n",
      "0.9154589371980676\n"
     ]
    },
    {
     "data": {
      "image/png": "[encoded data removed]",
      "text/plain": [
       "<Figure size 432x288 with 1 Axes>"
      ]
     },
     "metadata": {
      "needs_background": "light"
     },
     "output_type": "display_data"
    }
   ],
   "source": [
    "from sklearn.metrics import roc_auc_score\n",
    "from sklearn import metrics\n",
    "\n",
    "y_pred_proba_xg = best_model.predict_proba(test_data)[:,1]\n",
    "fpr, tpr, threshold = metrics.roc_curve(test_labels,y_pred_proba_xg)\n",
    "print('ROC AUC score is')\n",
    "print(roc_auc_score(test_labels,y_pred_proba_xg))\n",
    "plt.plot(fpr,tpr)\n",
    "plt.ylabel('True Positive Rate')\n",
    "plt.xlabel('False Positive Rate')\n",
    "plt.show()"
   ]
  },
  {
   "cell_type": "markdown",
   "id": "7ce69c05",
   "metadata": {
    "papermill": {
     "duration": 0.016435,
     "end_time": "2022-11-15T16:40:40.048492",
     "exception": false,
     "start_time": "2022-11-15T16:40:40.032057",
     "status": "completed"
    },
    "tags": []
   },
   "source": [
    "# 6. Final Results\n",
    "<a class=\"anchor\"  id=\"section6\"></a>"
   ]
  },
  {
   "cell_type": "code",
   "execution_count": 33,
   "id": "f44586e0",
   "metadata": {
    "execution": {
     "iopub.execute_input": "2022-11-15T16:40:40.083005Z",
     "iopub.status.busy": "2022-11-15T16:40:40.082589Z",
     "iopub.status.idle": "2022-11-15T16:40:40.211168Z",
     "shell.execute_reply": "2022-11-15T16:40:40.210145Z"
    },
    "papermill": {
     "duration": 0.148429,
     "end_time": "2022-11-15T16:40:40.213404",
     "exception": false,
     "start_time": "2022-11-15T16:40:40.064975",
     "status": "completed"
    },
    "tags": []
   },
   "outputs": [
    {
     "data": {
      "text/html": [
       "        <script type=\"text/javascript\">\n",
       "        window.PlotlyConfig = {MathJaxConfig: 'local'};\n",
       "        if (window.MathJax && window.MathJax.Hub && window.MathJax.Hub.Config) {window.MathJax.Hub.Config({SVG: {font: \"STIX-Web\"}});}\n",
       "        if (typeof require !== 'undefined') {\n",
       "        require.undef(\"plotly\");\n",
       "        requirejs.config({\n",
       "            paths: {\n",
       "                'plotly': ['https://cdn.plot.ly/plotly-2.14.0.min']\n",
       "            }\n",
       "        });\n",
       "        require(['plotly'], function(Plotly) {\n",
       "            window._Plotly = Plotly;\n",
       "        });\n",
       "        }\n",
       "        </script>\n",
       "        "
      ]
     },
     "metadata": {},
     "output_type": "display_data"
    },
    {
     "data": {
      "text/html": [
       "<div>                            <div id=\"545ade2b-fc31-4280-b2c0-d51e0eb339c8\" class=\"plotly-graph-div\" style=\"height:400px; width:900px;\"></div>            <script type=\"text/javascript\">                require([\"plotly\"], function(Plotly) {                    window.PLOTLYENV=window.PLOTLYENV || {};                                    if (document.getElementById(\"545ade2b-fc31-4280-b2c0-d51e0eb339c8\")) {                    Plotly.newPlot(                        \"545ade2b-fc31-4280-b2c0-d51e0eb339c8\",                        [{\"cells\":{\"align\":\"center\",\"fill\":{\"color\":\" #d4e6f1\"},\"font\":{\"color\":\"#1f1f1f\",\"size\":20},\"height\":40,\"line\":{\"color\":\"#010101\",\"width\":3},\"values\":[[\"Logistic Regression\",\"Decision Tree\",\"Random Forest\",\"XGboost\"],[\"0.76\",\"0.68\",\"0.78\",\"0.80\"],[\"0.89\",\"0.72\",\"0.87\",\"0.87\"],[\"0.79\",\"0.67\",\"0.80\",\"0.81\"]]},\"header\":{\"align\":\"center\",\"fill\":{\"color\":\" #2980b9\"},\"font\":{\"color\":\"black\",\"size\":20},\"line\":{\"color\":\"#010101\",\"width\":3},\"values\":[\"Model\",\"Precision\",\"Recall\",\"Accuracy\"]},\"type\":\"table\"}],                        {\"template\":{\"data\":{\"histogram2dcontour\":[{\"type\":\"histogram2dcontour\",\"colorbar\":{\"outlinewidth\":0,\"ticks\":\"\"},\"colorscale\":[[0.0,\"#0d0887\"],[0.1111111111111111,\"#46039f\"],[0.2222222222222222,\"#7201a8\"],[0.3333333333333333,\"#9c179e\"],[0.4444444444444444,\"#bd3786\"],[0.5555555555555556,\"#d8576b\"],[0.6666666666666666,\"#ed7953\"],[0.7777777777777778,\"#fb9f3a\"],[0.8888888888888888,\"#fdca26\"],[1.0,\"#f0f921\"]]}],\"choropleth\":[{\"type\":\"choropleth\",\"colorbar\":{\"outlinewidth\":0,\"ticks\":\"\"}}],\"histogram2d\":[{\"type\":\"histogram2d\",\"colorbar\":{\"outlinewidth\":0,\"ticks\":\"\"},\"colorscale\":[[0.0,\"#0d0887\"],[0.1111111111111111,\"#46039f\"],[0.2222222222222222,\"#7201a8\"],[0.3333333333333333,\"#9c179e\"],[0.4444444444444444,\"#bd3786\"],[0.5555555555555556,\"#d8576b\"],[0.6666666666666666,\"#ed7953\"],[0.7777777777777778,\"#fb9f3a\"],[0.8888888888888888,\"#fdca26\"],[1.0,\"#f0f921\"]]}],\"heatmap\":[{\"type\":\"heatmap\",\"colorbar\":{\"outlinewidth\":0,\"ticks\":\"\"},\"colorscale\":[[0.0,\"#0d0887\"],[0.1111111111111111,\"#46039f\"],[0.2222222222222222,\"#7201a8\"],[0.3333333333333333,\"#9c179e\"],[0.4444444444444444,\"#bd3786\"],[0.5555555555555556,\"#d8576b\"],[0.6666666666666666,\"#ed7953\"],[0.7777777777777778,\"#fb9f3a\"],[0.8888888888888888,\"#fdca26\"],[1.0,\"#f0f921\"]]}],\"heatmapgl\":[{\"type\":\"heatmapgl\",\"colorbar\":{\"outlinewidth\":0,\"ticks\":\"\"},\"colorscale\":[[0.0,\"#0d0887\"],[0.1111111111111111,\"#46039f\"],[0.2222222222222222,\"#7201a8\"],[0.3333333333333333,\"#9c179e\"],[0.4444444444444444,\"#bd3786\"],[0.5555555555555556,\"#d8576b\"],[0.6666666666666666,\"#ed7953\"],[0.7777777777777778,\"#fb9f3a\"],[0.8888888888888888,\"#fdca26\"],[1.0,\"#f0f921\"]]}],\"contourcarpet\":[{\"type\":\"contourcarpet\",\"colorbar\":{\"outlinewidth\":0,\"ticks\":\"\"}}],\"contour\":[{\"type\":\"contour\",\"colorbar\":{\"outlinewidth\":0,\"ticks\":\"\"},\"colorscale\":[[0.0,\"#0d0887\"],[0.1111111111111111,\"#46039f\"],[0.2222222222222222,\"#7201a8\"],[0.3333333333333333,\"#9c179e\"],[0.4444444444444444,\"#bd3786\"],[0.5555555555555556,\"#d8576b\"],[0.6666666666666666,\"#ed7953\"],[0.7777777777777778,\"#fb9f3a\"],[0.8888888888888888,\"#fdca26\"],[1.0,\"#f0f921\"]]}],\"surface\":[{\"type\":\"surface\",\"colorbar\":{\"outlinewidth\":0,\"ticks\":\"\"},\"colorscale\":[[0.0,\"#0d0887\"],[0.1111111111111111,\"#46039f\"],[0.2222222222222222,\"#7201a8\"],[0.3333333333333333,\"#9c179e\"],[0.4444444444444444,\"#bd3786\"],[0.5555555555555556,\"#d8576b\"],[0.6666666666666666,\"#ed7953\"],[0.7777777777777778,\"#fb9f3a\"],[0.8888888888888888,\"#fdca26\"],[1.0,\"#f0f921\"]]}],\"mesh3d\":[{\"type\":\"mesh3d\",\"colorbar\":{\"outlinewidth\":0,\"ticks\":\"\"}}],\"scatter\":[{\"fillpattern\":{\"fillmode\":\"overlay\",\"size\":10,\"solidity\":0.2},\"type\":\"scatter\"}],\"parcoords\":[{\"type\":\"parcoords\",\"line\":{\"colorbar\":{\"outlinewidth\":0,\"ticks\":\"\"}}}],\"scatterpolargl\":[{\"type\":\"scatterpolargl\",\"marker\":{\"colorbar\":{\"outlinewidth\":0,\"ticks\":\"\"}}}],\"bar\":[{\"error_x\":{\"color\":\"#2a3f5f\"},\"error_y\":{\"color\":\"#2a3f5f\"},\"marker\":{\"line\":{\"color\":\"#E5ECF6\",\"width\":0.5},\"pattern\":{\"fillmode\":\"overlay\",\"size\":10,\"solidity\":0.2}},\"type\":\"bar\"}],\"scattergeo\":[{\"type\":\"scattergeo\",\"marker\":{\"colorbar\":{\"outlinewidth\":0,\"ticks\":\"\"}}}],\"scatterpolar\":[{\"type\":\"scatterpolar\",\"marker\":{\"colorbar\":{\"outlinewidth\":0,\"ticks\":\"\"}}}],\"histogram\":[{\"marker\":{\"pattern\":{\"fillmode\":\"overlay\",\"size\":10,\"solidity\":0.2}},\"type\":\"histogram\"}],\"scattergl\":[{\"type\":\"scattergl\",\"marker\":{\"colorbar\":{\"outlinewidth\":0,\"ticks\":\"\"}}}],\"scatter3d\":[{\"type\":\"scatter3d\",\"line\":{\"colorbar\":{\"outlinewidth\":0,\"ticks\":\"\"}},\"marker\":{\"colorbar\":{\"outlinewidth\":0,\"ticks\":\"\"}}}],\"scattermapbox\":[{\"type\":\"scattermapbox\",\"marker\":{\"colorbar\":{\"outlinewidth\":0,\"ticks\":\"\"}}}],\"scatterternary\":[{\"type\":\"scatterternary\",\"marker\":{\"colorbar\":{\"outlinewidth\":0,\"ticks\":\"\"}}}],\"scattercarpet\":[{\"type\":\"scattercarpet\",\"marker\":{\"colorbar\":{\"outlinewidth\":0,\"ticks\":\"\"}}}],\"carpet\":[{\"aaxis\":{\"endlinecolor\":\"#2a3f5f\",\"gridcolor\":\"white\",\"linecolor\":\"white\",\"minorgridcolor\":\"white\",\"startlinecolor\":\"#2a3f5f\"},\"baxis\":{\"endlinecolor\":\"#2a3f5f\",\"gridcolor\":\"white\",\"linecolor\":\"white\",\"minorgridcolor\":\"white\",\"startlinecolor\":\"#2a3f5f\"},\"type\":\"carpet\"}],\"table\":[{\"cells\":{\"fill\":{\"color\":\"#EBF0F8\"},\"line\":{\"color\":\"white\"}},\"header\":{\"fill\":{\"color\":\"#C8D4E3\"},\"line\":{\"color\":\"white\"}},\"type\":\"table\"}],\"barpolar\":[{\"marker\":{\"line\":{\"color\":\"#E5ECF6\",\"width\":0.5},\"pattern\":{\"fillmode\":\"overlay\",\"size\":10,\"solidity\":0.2}},\"type\":\"barpolar\"}],\"pie\":[{\"automargin\":true,\"type\":\"pie\"}]},\"layout\":{\"autotypenumbers\":\"strict\",\"colorway\":[\"#636efa\",\"#EF553B\",\"#00cc96\",\"#ab63fa\",\"#FFA15A\",\"#19d3f3\",\"#FF6692\",\"#B6E880\",\"#FF97FF\",\"#FECB52\"],\"font\":{\"color\":\"#2a3f5f\"},\"hovermode\":\"closest\",\"hoverlabel\":{\"align\":\"left\"},\"paper_bgcolor\":\"white\",\"plot_bgcolor\":\"#E5ECF6\",\"polar\":{\"bgcolor\":\"#E5ECF6\",\"angularaxis\":{\"gridcolor\":\"white\",\"linecolor\":\"white\",\"ticks\":\"\"},\"radialaxis\":{\"gridcolor\":\"white\",\"linecolor\":\"white\",\"ticks\":\"\"}},\"ternary\":{\"bgcolor\":\"#E5ECF6\",\"aaxis\":{\"gridcolor\":\"white\",\"linecolor\":\"white\",\"ticks\":\"\"},\"baxis\":{\"gridcolor\":\"white\",\"linecolor\":\"white\",\"ticks\":\"\"},\"caxis\":{\"gridcolor\":\"white\",\"linecolor\":\"white\",\"ticks\":\"\"}},\"coloraxis\":{\"colorbar\":{\"outlinewidth\":0,\"ticks\":\"\"}},\"colorscale\":{\"sequential\":[[0.0,\"#0d0887\"],[0.1111111111111111,\"#46039f\"],[0.2222222222222222,\"#7201a8\"],[0.3333333333333333,\"#9c179e\"],[0.4444444444444444,\"#bd3786\"],[0.5555555555555556,\"#d8576b\"],[0.6666666666666666,\"#ed7953\"],[0.7777777777777778,\"#fb9f3a\"],[0.8888888888888888,\"#fdca26\"],[1.0,\"#f0f921\"]],\"sequentialminus\":[[0.0,\"#0d0887\"],[0.1111111111111111,\"#46039f\"],[0.2222222222222222,\"#7201a8\"],[0.3333333333333333,\"#9c179e\"],[0.4444444444444444,\"#bd3786\"],[0.5555555555555556,\"#d8576b\"],[0.6666666666666666,\"#ed7953\"],[0.7777777777777778,\"#fb9f3a\"],[0.8888888888888888,\"#fdca26\"],[1.0,\"#f0f921\"]],\"diverging\":[[0,\"#8e0152\"],[0.1,\"#c51b7d\"],[0.2,\"#de77ae\"],[0.3,\"#f1b6da\"],[0.4,\"#fde0ef\"],[0.5,\"#f7f7f7\"],[0.6,\"#e6f5d0\"],[0.7,\"#b8e186\"],[0.8,\"#7fbc41\"],[0.9,\"#4d9221\"],[1,\"#276419\"]]},\"xaxis\":{\"gridcolor\":\"white\",\"linecolor\":\"white\",\"ticks\":\"\",\"title\":{\"standoff\":15},\"zerolinecolor\":\"white\",\"automargin\":true,\"zerolinewidth\":2},\"yaxis\":{\"gridcolor\":\"white\",\"linecolor\":\"white\",\"ticks\":\"\",\"title\":{\"standoff\":15},\"zerolinecolor\":\"white\",\"automargin\":true,\"zerolinewidth\":2},\"scene\":{\"xaxis\":{\"backgroundcolor\":\"#E5ECF6\",\"gridcolor\":\"white\",\"linecolor\":\"white\",\"showbackground\":true,\"ticks\":\"\",\"zerolinecolor\":\"white\",\"gridwidth\":2},\"yaxis\":{\"backgroundcolor\":\"#E5ECF6\",\"gridcolor\":\"white\",\"linecolor\":\"white\",\"showbackground\":true,\"ticks\":\"\",\"zerolinecolor\":\"white\",\"gridwidth\":2},\"zaxis\":{\"backgroundcolor\":\"#E5ECF6\",\"gridcolor\":\"white\",\"linecolor\":\"white\",\"showbackground\":true,\"ticks\":\"\",\"zerolinecolor\":\"white\",\"gridwidth\":2}},\"shapedefaults\":{\"line\":{\"color\":\"#2a3f5f\"}},\"annotationdefaults\":{\"arrowcolor\":\"#2a3f5f\",\"arrowhead\":0,\"arrowwidth\":1},\"geo\":{\"bgcolor\":\"white\",\"landcolor\":\"#E5ECF6\",\"subunitcolor\":\"white\",\"showland\":true,\"showlakes\":true,\"lakecolor\":\"white\"},\"title\":{\"x\":0.05},\"mapbox\":{\"style\":\"light\"}}},\"font\":{\"family\":\"Courier New, monospace\"},\"width\":900,\"height\":400},                        {\"responsive\": true}                    ).then(function(){\n",
       "                            \n",
       "var gd = document.getElementById('545ade2b-fc31-4280-b2c0-d51e0eb339c8');\n",
       "var x = new MutationObserver(function (mutations, observer) {{\n",
       "        var display = window.getComputedStyle(gd).display;\n",
       "        if (!display || display === 'none') {{\n",
       "            console.log([gd, 'removed!']);\n",
       "            Plotly.purge(gd);\n",
       "            observer.disconnect();\n",
       "        }}\n",
       "}});\n",
       "\n",
       "// Listen for the removal of the full notebook cells\n",
       "var notebookContainer = gd.closest('#notebook-container');\n",
       "if (notebookContainer) {{\n",
       "    x.observe(notebookContainer, {childList: true});\n",
       "}}\n",
       "\n",
       "// Listen for the clearing of the current output cell\n",
       "var outputEl = gd.closest('.output');\n",
       "if (outputEl) {{\n",
       "    x.observe(outputEl, {childList: true});\n",
       "}}\n",
       "\n",
       "                        })                };                });            </script>        </div>"
      ]
     },
     "metadata": {},
     "output_type": "display_data"
    }
   ],
   "source": [
    "fig = go.Figure(data=[go.Table(\n",
    "                                \n",
    "                                header=dict(values=['Model',\n",
    "                                                    'Precision','Recall','Accuracy'],\n",
    "                                line_color='#010101',\n",
    "                                fill_color=' #2980b9',line_width=3,\n",
    "                                align='center',\n",
    "                                font=dict(color=\"black\", size=20)),\n",
    "    \n",
    "                                cells=dict(values=[('Logistic Regression','Decision Tree','Random Forest','XGboost'),\n",
    "                                                   (\"{:.2f}\".format(metrics.precision_score(test_labels, yhat_lr, pos_label=1)),\n",
    "                                                    \"{:.2f}\".format(metrics.precision_score(test_labels, yhat_dectree, pos_label=1)),\n",
    "                                                   \"{:.2f}\".format(metrics.precision_score(test_labels, y_pred_rf, pos_label=1)),\n",
    "                                                   \"{:.2f}\".format(metrics.precision_score(test_labels, Y_pred_xgboost, pos_label=1))),\n",
    "                                                  \n",
    "                                                  (\"{:.2f}\".format(metrics.recall_score(test_labels, yhat_lr, pos_label=1)),\n",
    "                                                  \"{:.2f}\".format(metrics.recall_score(test_labels, yhat_dectree, pos_label=1)),\n",
    "                                                  \"{:.2f}\".format(metrics.recall_score(test_labels, y_pred_rf, pos_label=1)),\n",
    "                                                  \"{:.2f}\".format(metrics.recall_score(test_labels, Y_pred_xgboost, pos_label=1))),\n",
    "                                                  \n",
    "                                                  (\"{:.2f}\".format(metrics.accuracy_score(test_labels, yhat_lr)),\n",
    "                                                   \"{:.2f}\".format(metrics.accuracy_score(test_labels, yhat_dectree)),\n",
    "                                                   \"{:.2f}\".format(metrics.accuracy_score(test_labels, y_pred_rf)),\n",
    "                                                   \"{:.2f}\".format(metrics.accuracy_score(test_labels, Y_pred_xgboost)))],\n",
    "                                fill_color=' #d4e6f1',line_color='#010101',line_width=3,\n",
    "                                           align='center',\n",
    "                                font=dict(color=\"#1f1f1f\", size=20),height=40) \n",
    ")])\n",
    "\n",
    "fig.update_layout(width=900, height=400,font=dict(\n",
    "        family=\"Courier New, monospace\"))\n",
    "fig.show()"
   ]
  },
  {
   "cell_type": "markdown",
   "id": "fb08c1e1",
   "metadata": {
    "papermill": {
     "duration": 0.016738,
     "end_time": "2022-11-15T16:40:40.247464",
     "exception": false,
     "start_time": "2022-11-15T16:40:40.230726",
     "status": "completed"
    },
    "tags": []
   },
   "source": [
    "**Since the XGBoost model is having higher precision,recall and accuracy it can be chosen as a final model to predict heart attack.**"
   ]
  },
  {
   "cell_type": "markdown",
   "id": "8688416d",
   "metadata": {
    "papermill": {
     "duration": 0.016358,
     "end_time": "2022-11-15T16:40:40.280947",
     "exception": false,
     "start_time": "2022-11-15T16:40:40.264589",
     "status": "completed"
    },
    "tags": []
   },
   "source": [
    "**If you like the notebook please do upvote and also comment to suggest improvements in the notebook.**\n",
    "\n",
    "**Thank you 👏🙌👍.**"
   ]
  }
 ],
 "metadata": {
  "kernelspec": {
   "display_name": "Python 3",
   "language": "python",
   "name": "python3"
  },
  "language_info": {
   "codemirror_mode": {
    "name": "ipython",
    "version": 3
   },
   "file_extension": ".py",
   "mimetype": "text/x-python",
   "name": "python",
   "nbconvert_exporter": "python",
   "pygments_lexer": "ipython3",
   "version": "3.7.12"
  },
  "papermill": {
   "default_parameters": {},
   "duration": 26.881168,
   "end_time": "2022-11-15T16:40:41.519297",
   "environment_variables": {},
   "exception": null,
   "input_path": "__notebook__.ipynb",
   "output_path": "__notebook__.ipynb",
   "parameters": {},
   "start_time": "2022-11-15T16:40:14.638129",
   "version": "2.3.4"
  }
 },
 "nbformat": 4,
 "nbformat_minor": 5
}
